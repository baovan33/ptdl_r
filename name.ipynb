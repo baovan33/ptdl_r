{
  "nbformat": 4,
  "nbformat_minor": 0,
  "metadata": {
    "colab": {
      "name": "name.ipynb",
      "provenance": [],
      "collapsed_sections": [],
      "toc_visible": true
    },
    "kernelspec": {
      "name": "python3",
      "display_name": "Python 3"
    },
    "language_info": {
      "name": "python"
    }
  },
  "cells": [
    {
      "cell_type": "markdown",
      "source": [
        "##Nation"
      ],
      "metadata": {
        "id": "heb0wjh9ht3Q"
      }
    },
    {
      "cell_type": "code",
      "metadata": {
        "id": "RvMkiKliTGaD"
      },
      "source": [
        "import numpy as np\n",
        "import pandas as pd\n",
        "import matplotlib.pyplot as plt"
      ],
      "execution_count": 43,
      "outputs": []
    },
    {
      "cell_type": "code",
      "metadata": {
        "id": "zqYdoUzLIsha"
      },
      "source": [
        "from sklearn.naive_bayes import MultinomialNB\n",
        "from sklearn.linear_model import LogisticRegression\n",
        "from sklearn.feature_extraction.text import CountVectorizer\n",
        "from sklearn.model_selection import train_test_split"
      ],
      "execution_count": 44,
      "outputs": []
    },
    {
      "cell_type": "code",
      "metadata": {
        "colab": {
          "base_uri": "https://localhost:8080/",
          "height": 424
        },
        "id": "IupqNFxITmv1",
        "outputId": "e279529f-4950-4ffb-b4a9-158d7ea5c921"
      },
      "source": [
        "df = pd.read_csv(\"https://raw.githubusercontent.com/Jcharis/Python-Machine-Learning/master/Predicting_Nationality_Ethnicity_with_Names_Using_ML/Names_Dataset.csv\")\n",
        "df\n"
      ],
      "execution_count": 45,
      "outputs": [
        {
          "output_type": "execute_result",
          "data": {
            "text/html": [
              "<div>\n",
              "<style scoped>\n",
              "    .dataframe tbody tr th:only-of-type {\n",
              "        vertical-align: middle;\n",
              "    }\n",
              "\n",
              "    .dataframe tbody tr th {\n",
              "        vertical-align: top;\n",
              "    }\n",
              "\n",
              "    .dataframe thead th {\n",
              "        text-align: right;\n",
              "    }\n",
              "</style>\n",
              "<table border=\"1\" class=\"dataframe\">\n",
              "  <thead>\n",
              "    <tr style=\"text-align: right;\">\n",
              "      <th></th>\n",
              "      <th>Unnamed: 0</th>\n",
              "      <th>names</th>\n",
              "      <th>nationality</th>\n",
              "    </tr>\n",
              "  </thead>\n",
              "  <tbody>\n",
              "    <tr>\n",
              "      <th>0</th>\n",
              "      <td>0</td>\n",
              "      <td>Gershon</td>\n",
              "      <td>yiddish</td>\n",
              "    </tr>\n",
              "    <tr>\n",
              "      <th>1</th>\n",
              "      <td>1</td>\n",
              "      <td>Lantz</td>\n",
              "      <td>yiddish</td>\n",
              "    </tr>\n",
              "    <tr>\n",
              "      <th>2</th>\n",
              "      <td>2</td>\n",
              "      <td>Zaide</td>\n",
              "      <td>yiddish</td>\n",
              "    </tr>\n",
              "    <tr>\n",
              "      <th>3</th>\n",
              "      <td>3</td>\n",
              "      <td>Zalman</td>\n",
              "      <td>yiddish</td>\n",
              "    </tr>\n",
              "    <tr>\n",
              "      <th>4</th>\n",
              "      <td>4</td>\n",
              "      <td>Zindel</td>\n",
              "      <td>yiddish</td>\n",
              "    </tr>\n",
              "    <tr>\n",
              "      <th>...</th>\n",
              "      <td>...</td>\n",
              "      <td>...</td>\n",
              "      <td>...</td>\n",
              "    </tr>\n",
              "    <tr>\n",
              "      <th>3233</th>\n",
              "      <td>3283</td>\n",
              "      <td>Virsila</td>\n",
              "      <td>czechoslovakian</td>\n",
              "    </tr>\n",
              "    <tr>\n",
              "      <th>3234</th>\n",
              "      <td>3284</td>\n",
              "      <td>Vondra</td>\n",
              "      <td>czechoslovakian</td>\n",
              "    </tr>\n",
              "    <tr>\n",
              "      <th>3235</th>\n",
              "      <td>3285</td>\n",
              "      <td>Zdenek</td>\n",
              "      <td>czechoslovakian</td>\n",
              "    </tr>\n",
              "    <tr>\n",
              "      <th>3236</th>\n",
              "      <td>3286</td>\n",
              "      <td>Zelenka</td>\n",
              "      <td>czechoslovakian</td>\n",
              "    </tr>\n",
              "    <tr>\n",
              "      <th>3237</th>\n",
              "      <td>3287</td>\n",
              "      <td>Zuza</td>\n",
              "      <td>czechoslovakian</td>\n",
              "    </tr>\n",
              "  </tbody>\n",
              "</table>\n",
              "<p>3238 rows × 3 columns</p>\n",
              "</div>"
            ],
            "text/plain": [
              "      Unnamed: 0    names      nationality\n",
              "0              0  Gershon          yiddish\n",
              "1              1    Lantz          yiddish\n",
              "2              2    Zaide          yiddish\n",
              "3              3   Zalman          yiddish\n",
              "4              4   Zindel          yiddish\n",
              "...          ...      ...              ...\n",
              "3233        3283  Virsila  czechoslovakian\n",
              "3234        3284   Vondra  czechoslovakian\n",
              "3235        3285   Zdenek  czechoslovakian\n",
              "3236        3286  Zelenka  czechoslovakian\n",
              "3237        3287     Zuza  czechoslovakian\n",
              "\n",
              "[3238 rows x 3 columns]"
            ]
          },
          "metadata": {},
          "execution_count": 45
        }
      ]
    },
    {
      "cell_type": "code",
      "metadata": {
        "colab": {
          "base_uri": "https://localhost:8080/"
        },
        "id": "OPYbRuFKUD0S",
        "outputId": "9f033678-df2c-4f48-8aa5-a486b56a27ff"
      },
      "source": [
        "df.shape"
      ],
      "execution_count": 46,
      "outputs": [
        {
          "output_type": "execute_result",
          "data": {
            "text/plain": [
              "(3238, 3)"
            ]
          },
          "metadata": {},
          "execution_count": 46
        }
      ]
    },
    {
      "cell_type": "code",
      "metadata": {
        "colab": {
          "base_uri": "https://localhost:8080/"
        },
        "id": "5ToJO-J6UU__",
        "outputId": "50fb085a-ac2e-421c-c63d-c1ef751149c3"
      },
      "source": [
        "df.columns"
      ],
      "execution_count": 47,
      "outputs": [
        {
          "output_type": "execute_result",
          "data": {
            "text/plain": [
              "Index(['Unnamed: 0', 'names', 'nationality'], dtype='object')"
            ]
          },
          "metadata": {},
          "execution_count": 47
        }
      ]
    },
    {
      "cell_type": "code",
      "metadata": {
        "colab": {
          "base_uri": "https://localhost:8080/",
          "height": 206
        },
        "id": "Y0OmhQrLUcj5",
        "outputId": "50556b60-46dc-417b-b534-7dc9ee19ed44"
      },
      "source": [
        "df.head()"
      ],
      "execution_count": 48,
      "outputs": [
        {
          "output_type": "execute_result",
          "data": {
            "text/html": [
              "<div>\n",
              "<style scoped>\n",
              "    .dataframe tbody tr th:only-of-type {\n",
              "        vertical-align: middle;\n",
              "    }\n",
              "\n",
              "    .dataframe tbody tr th {\n",
              "        vertical-align: top;\n",
              "    }\n",
              "\n",
              "    .dataframe thead th {\n",
              "        text-align: right;\n",
              "    }\n",
              "</style>\n",
              "<table border=\"1\" class=\"dataframe\">\n",
              "  <thead>\n",
              "    <tr style=\"text-align: right;\">\n",
              "      <th></th>\n",
              "      <th>Unnamed: 0</th>\n",
              "      <th>names</th>\n",
              "      <th>nationality</th>\n",
              "    </tr>\n",
              "  </thead>\n",
              "  <tbody>\n",
              "    <tr>\n",
              "      <th>0</th>\n",
              "      <td>0</td>\n",
              "      <td>Gershon</td>\n",
              "      <td>yiddish</td>\n",
              "    </tr>\n",
              "    <tr>\n",
              "      <th>1</th>\n",
              "      <td>1</td>\n",
              "      <td>Lantz</td>\n",
              "      <td>yiddish</td>\n",
              "    </tr>\n",
              "    <tr>\n",
              "      <th>2</th>\n",
              "      <td>2</td>\n",
              "      <td>Zaide</td>\n",
              "      <td>yiddish</td>\n",
              "    </tr>\n",
              "    <tr>\n",
              "      <th>3</th>\n",
              "      <td>3</td>\n",
              "      <td>Zalman</td>\n",
              "      <td>yiddish</td>\n",
              "    </tr>\n",
              "    <tr>\n",
              "      <th>4</th>\n",
              "      <td>4</td>\n",
              "      <td>Zindel</td>\n",
              "      <td>yiddish</td>\n",
              "    </tr>\n",
              "  </tbody>\n",
              "</table>\n",
              "</div>"
            ],
            "text/plain": [
              "   Unnamed: 0    names nationality\n",
              "0           0  Gershon     yiddish\n",
              "1           1    Lantz     yiddish\n",
              "2           2    Zaide     yiddish\n",
              "3           3   Zalman     yiddish\n",
              "4           4   Zindel     yiddish"
            ]
          },
          "metadata": {},
          "execution_count": 48
        }
      ]
    },
    {
      "cell_type": "code",
      "metadata": {
        "colab": {
          "base_uri": "https://localhost:8080/"
        },
        "id": "KUQhqsPcUmiU",
        "outputId": "c9842d2d-9f11-4194-e096-65b71a8e747c"
      },
      "source": [
        "df['nationality'].unique()"
      ],
      "execution_count": 49,
      "outputs": [
        {
          "output_type": "execute_result",
          "data": {
            "text/plain": [
              "array(['yiddish', 'gaelic', 'african', 'irish', 'hungarian', 'german',\n",
              "       'swedish', 'japanese', 'italian', 'american', 'hawaiian', 'greek',\n",
              "       'polynesian', 'scandinavian', 'spanish', 'celtic', 'old-english',\n",
              "       'korean', 'sanskrit', 'african-american', 'hebrew', 'norse',\n",
              "       'chinese', 'finnish', 'persian', 'scottish', 'slavic', 'english',\n",
              "       'old-norse', 'dutch', 'armenian', 'welsh', 'polish', 'teutonic',\n",
              "       'russian', 'egyptian', 'arabic', 'swahili', 'native-american',\n",
              "       'old-french', 'french', 'middle-english', 'latin', 'vietnamese',\n",
              "       'danish', 'hindi', 'old-german', 'turkish', 'indian',\n",
              "       'czechoslovakian'], dtype=object)"
            ]
          },
          "metadata": {},
          "execution_count": 49
        }
      ]
    },
    {
      "cell_type": "code",
      "metadata": {
        "id": "B06oYb5WU-NR"
      },
      "source": [
        "class_name = ['yiddish', 'gaelic', 'african', 'irish', 'hungarian', 'german',\n",
        "       'swedish', 'japanese', 'italian', 'american', 'hawaiian', 'greek',\n",
        "       'polynesian', 'scandinavian', 'spanish', 'celtic', 'old-english',\n",
        "       'korean', 'sanskrit', 'african-american', 'hebrew', 'norse',\n",
        "       'chinese', 'finnish', 'persian', 'scottish', 'slavic', 'english',\n",
        "       'old-norse', 'dutch', 'armenian', 'welsh', 'polish', 'teutonic',\n",
        "       'russian', 'egyptian', 'arabic', 'swahili', 'native-american',\n",
        "       'old-french', 'french', 'middle-english', 'latin', 'vietnamese',\n",
        "       'danish', 'hindi', 'old-german', 'turkish', 'indian',\n",
        "       'czechoslovakian']"
      ],
      "execution_count": 50,
      "outputs": []
    },
    {
      "cell_type": "code",
      "metadata": {
        "colab": {
          "base_uri": "https://localhost:8080/"
        },
        "id": "8dWUSzDjVQkK",
        "outputId": "e5759c99-df93-4eba-a303-1d1785f51c02"
      },
      "source": [
        "len(class_name)"
      ],
      "execution_count": 51,
      "outputs": [
        {
          "output_type": "execute_result",
          "data": {
            "text/plain": [
              "50"
            ]
          },
          "metadata": {},
          "execution_count": 51
        }
      ]
    },
    {
      "cell_type": "code",
      "metadata": {
        "colab": {
          "base_uri": "https://localhost:8080/"
        },
        "id": "_LQCy8EjVU7T",
        "outputId": "b053c60e-e095-4e54-887b-043e2c34d7c2"
      },
      "source": [
        "df.groupby('nationality')['names'].size()\n"
      ],
      "execution_count": 52,
      "outputs": [
        {
          "output_type": "execute_result",
          "data": {
            "text/plain": [
              "nationality\n",
              "african             100\n",
              "african-american    100\n",
              "american            100\n",
              "arabic              100\n",
              "armenian             17\n",
              "celtic               62\n",
              "chinese             100\n",
              "czechoslovakian      38\n",
              "danish               11\n",
              "dutch                24\n",
              "egyptian             30\n",
              "english             100\n",
              "finnish              13\n",
              "french              100\n",
              "gaelic               87\n",
              "german              100\n",
              "greek               100\n",
              "hawaiian            100\n",
              "hebrew              100\n",
              "hindi               100\n",
              "hungarian            64\n",
              "indian               25\n",
              "irish               100\n",
              "italian             100\n",
              "japanese            100\n",
              "korean               16\n",
              "latin               100\n",
              "middle-english       45\n",
              "native-american     100\n",
              "norse                40\n",
              "old-english         100\n",
              "old-french           46\n",
              "old-german           40\n",
              "old-norse            28\n",
              "persian              55\n",
              "polish               48\n",
              "polynesian           15\n",
              "russian              85\n",
              "sanskrit             28\n",
              "scandinavian        100\n",
              "scottish             74\n",
              "slavic               79\n",
              "spanish             100\n",
              "swahili              16\n",
              "swedish              14\n",
              "teutonic             32\n",
              "turkish              52\n",
              "vietnamese           52\n",
              "welsh                91\n",
              "yiddish              11\n",
              "Name: names, dtype: int64"
            ]
          },
          "metadata": {},
          "execution_count": 52
        }
      ]
    },
    {
      "cell_type": "code",
      "metadata": {
        "colab": {
          "base_uri": "https://localhost:8080/",
          "height": 527
        },
        "id": "um98EJvjVrir",
        "outputId": "adcbb14a-17cb-4ecb-ceb5-fe4eaf16fedc"
      },
      "source": [
        "df.groupby('nationality')['names'].size().plot(kind='bar',figsize=(20,10))\n"
      ],
      "execution_count": 53,
      "outputs": [
        {
          "output_type": "execute_result",
          "data": {
            "text/plain": [
              "<matplotlib.axes._subplots.AxesSubplot at 0x7f8326c15350>"
            ]
          },
          "metadata": {},
          "execution_count": 53
        },
        {
          "output_type": "display_data",
          "data": {
            "image/png": "[encoded data removed]",
            "text/plain": [
              "<Figure size 1440x720 with 1 Axes>"
            ]
          },
          "metadata": {
            "needs_background": "light"
          }
        }
      ]
    },
    {
      "cell_type": "code",
      "metadata": {
        "id": "c6LL6jeXJfaf"
      },
      "source": [
        "#train_model"
      ],
      "execution_count": 54,
      "outputs": []
    },
    {
      "cell_type": "code",
      "metadata": {
        "id": "SBWk70WlWZX4"
      },
      "source": [
        "Xfeatures = df['names']\n",
        "ylabels= df['nationality']"
      ],
      "execution_count": 55,
      "outputs": []
    },
    {
      "cell_type": "code",
      "metadata": {
        "id": "sIGnpjgQWfrm"
      },
      "source": [
        "cv = CountVectorizer() #chuyen_thanh_matran \n",
        "X = cv.fit_transform(Xfeatures)"
      ],
      "execution_count": 56,
      "outputs": []
    },
    {
      "cell_type": "code",
      "metadata": {
        "colab": {
          "base_uri": "https://localhost:8080/"
        },
        "id": "etm80df3W_1D",
        "outputId": "5868e54e-b987-4c80-e4fc-26f0ad160369"
      },
      "source": [
        "cv.get_feature_names()"
      ],
      "execution_count": 57,
      "outputs": [
        {
          "output_type": "stream",
          "name": "stderr",
          "text": [
            "/usr/local/lib/python3.7/dist-packages/sklearn/utils/deprecation.py:87: FutureWarning: Function get_feature_names is deprecated; get_feature_names is deprecated in 1.0 and will be removed in 1.2. Please use get_feature_names_out instead.\n",
            "  warnings.warn(msg, category=FutureWarning)\n"
          ]
        },
        {
          "output_type": "execute_result",
          "data": {
            "text/plain": [
              "['aaliyah',\n",
              " 'aari',\n",
              " 'aaron',\n",
              " 'aase',\n",
              " 'aba',\n",
              " 'aban',\n",
              " 'abbas',\n",
              " 'abbellonna',\n",
              " 'abbott',\n",
              " 'abby',\n",
              " 'abdiel',\n",
              " 'abdulaziz',\n",
              " 'abel',\n",
              " 'abelard',\n",
              " 'abeni',\n",
              " 'abeque',\n",
              " 'abey',\n",
              " 'abeytu',\n",
              " 'abhay',\n",
              " 'abhijit',\n",
              " 'abhorson',\n",
              " 'abia',\n",
              " 'abiba',\n",
              " 'abie',\n",
              " 'abigail',\n",
              " 'abijah',\n",
              " 'abira',\n",
              " 'abital',\n",
              " 'abmaba',\n",
              " 'abner',\n",
              " 'abra',\n",
              " 'abraham',\n",
              " 'abrahsa',\n",
              " 'abriana',\n",
              " 'abril',\n",
              " 'absolom',\n",
              " 'abtin',\n",
              " 'abuna',\n",
              " 'acacio',\n",
              " 'acantha',\n",
              " 'ace',\n",
              " 'achachak',\n",
              " 'achazia',\n",
              " 'achilles',\n",
              " 'achuta',\n",
              " 'ackley',\n",
              " 'acton',\n",
              " 'acura',\n",
              " 'ada',\n",
              " 'adahy',\n",
              " 'adalai',\n",
              " 'adalbert',\n",
              " 'adalgisa',\n",
              " 'adalgiso',\n",
              " 'adalia',\n",
              " 'adam',\n",
              " 'adamina',\n",
              " 'adan',\n",
              " 'adar',\n",
              " 'adara',\n",
              " 'adare',\n",
              " 'addai',\n",
              " 'addison',\n",
              " 'adelaide',\n",
              " 'adelbert',\n",
              " 'adelfried',\n",
              " 'adelino',\n",
              " 'adelmio',\n",
              " 'adelmo',\n",
              " 'adelpha',\n",
              " 'ademaro',\n",
              " 'adena',\n",
              " 'adeodatus',\n",
              " 'aderes',\n",
              " 'adger',\n",
              " 'adham',\n",
              " 'adia',\n",
              " 'adie',\n",
              " 'adin',\n",
              " 'aditya',\n",
              " 'adler',\n",
              " 'adley',\n",
              " 'admon',\n",
              " 'adney',\n",
              " 'adoette',\n",
              " 'adolfina',\n",
              " 'adolph',\n",
              " 'adon',\n",
              " 'adonis',\n",
              " 'adora',\n",
              " 'adrian',\n",
              " 'adrienne',\n",
              " 'adsila',\n",
              " 'aeary',\n",
              " 'aegle',\n",
              " 'aella',\n",
              " 'aemilia',\n",
              " 'aemilius',\n",
              " 'affera',\n",
              " 'affinity',\n",
              " 'afra',\n",
              " 'afram',\n",
              " 'afric',\n",
              " 'africa',\n",
              " 'afrodite',\n",
              " 'afton',\n",
              " 'agamemnon',\n",
              " 'agape',\n",
              " 'agapetus',\n",
              " 'agata',\n",
              " 'agatho',\n",
              " 'aglaia',\n",
              " 'agnes',\n",
              " 'agrippa',\n",
              " 'agrona',\n",
              " 'ah',\n",
              " 'ahab',\n",
              " 'ahanu',\n",
              " 'ahava',\n",
              " 'ahearn',\n",
              " 'ahmad',\n",
              " 'ahmik',\n",
              " 'ahmose',\n",
              " 'ahren',\n",
              " 'ahura',\n",
              " 'ai',\n",
              " 'aida',\n",
              " 'aidia',\n",
              " 'aiken',\n",
              " 'aiko',\n",
              " 'aileen',\n",
              " 'ailis',\n",
              " 'ailsa',\n",
              " 'aimee',\n",
              " 'aimon',\n",
              " 'ainsley',\n",
              " 'aisha',\n",
              " 'aislinn',\n",
              " 'aissa',\n",
              " 'aitan',\n",
              " 'aiyana',\n",
              " 'ajatashatru',\n",
              " 'ajax',\n",
              " 'ajay',\n",
              " 'ajua',\n",
              " 'akaash',\n",
              " 'akaisha',\n",
              " 'akako',\n",
              " 'akamu',\n",
              " 'akanah',\n",
              " 'akbar',\n",
              " 'akecheta',\n",
              " 'akelah',\n",
              " 'aki',\n",
              " 'akilah',\n",
              " 'akim',\n",
              " 'akina',\n",
              " 'akira',\n",
              " 'akiva',\n",
              " 'akiyama',\n",
              " 'akosua',\n",
              " 'aksel',\n",
              " 'akshay',\n",
              " 'akuti',\n",
              " 'al',\n",
              " 'alair',\n",
              " 'alam',\n",
              " 'alameda',\n",
              " 'alan',\n",
              " 'alana',\n",
              " 'alaqua',\n",
              " 'alaric',\n",
              " 'alastair',\n",
              " 'alawa',\n",
              " 'alba',\n",
              " 'alban',\n",
              " 'albert',\n",
              " 'alberta',\n",
              " 'albrecht',\n",
              " 'alcander',\n",
              " 'alcibiades',\n",
              " 'alcina',\n",
              " 'alcott',\n",
              " 'alden',\n",
              " 'alder',\n",
              " 'aldo',\n",
              " 'aldora',\n",
              " 'aldrich',\n",
              " 'aleron',\n",
              " 'aleshanee',\n",
              " 'alethea',\n",
              " 'alexander',\n",
              " 'alexandra',\n",
              " 'alexandrite',\n",
              " 'aleyn',\n",
              " 'alfonso',\n",
              " 'alford',\n",
              " 'alfred',\n",
              " 'alger',\n",
              " 'algernon',\n",
              " 'algoma',\n",
              " 'ali',\n",
              " 'alice',\n",
              " 'alida',\n",
              " 'alima',\n",
              " 'alisha',\n",
              " 'alison',\n",
              " 'alivia',\n",
              " 'alixia',\n",
              " 'aliye',\n",
              " 'aliza',\n",
              " 'alize',\n",
              " 'alka',\n",
              " 'allard',\n",
              " 'allaya',\n",
              " 'allegra',\n",
              " 'alleta',\n",
              " 'allston',\n",
              " 'alma',\n",
              " 'alo',\n",
              " 'aloani',\n",
              " 'aloha',\n",
              " 'alohi',\n",
              " 'alona',\n",
              " 'aloysia',\n",
              " 'aloysius',\n",
              " 'alphaeus',\n",
              " 'alphus',\n",
              " 'alsoomse',\n",
              " 'altair',\n",
              " 'althea',\n",
              " 'alton',\n",
              " 'aludra',\n",
              " 'alumit',\n",
              " 'alva',\n",
              " 'alvertos',\n",
              " 'alvin',\n",
              " 'alvina',\n",
              " 'alvis',\n",
              " 'alyssa',\n",
              " 'amadahy',\n",
              " 'amadeus',\n",
              " 'amal',\n",
              " 'amanda',\n",
              " 'amando',\n",
              " 'amar',\n",
              " 'amara',\n",
              " 'amarante',\n",
              " 'amari',\n",
              " 'amarie',\n",
              " 'amaris',\n",
              " 'amaros',\n",
              " 'amator',\n",
              " 'amaya',\n",
              " 'amber',\n",
              " 'ambrose',\n",
              " 'ambrosia',\n",
              " 'amedeo',\n",
              " 'amelia',\n",
              " 'amerie',\n",
              " 'amerigo',\n",
              " 'ames',\n",
              " 'amethyst',\n",
              " 'amherst',\n",
              " 'ami',\n",
              " 'amiable',\n",
              " 'amiel',\n",
              " 'amiens',\n",
              " 'amina',\n",
              " 'aminta',\n",
              " 'amir',\n",
              " 'amissa',\n",
              " 'amit',\n",
              " 'amitola',\n",
              " 'amity',\n",
              " 'amon',\n",
              " 'amory',\n",
              " 'amos',\n",
              " 'amour',\n",
              " 'amphitrite',\n",
              " 'amram',\n",
              " 'amriel',\n",
              " 'amund',\n",
              " 'amy',\n",
              " 'an',\n",
              " 'anaba',\n",
              " 'anacletus',\n",
              " 'analu',\n",
              " 'anan',\n",
              " 'anand',\n",
              " 'anani',\n",
              " 'ananias',\n",
              " 'anara',\n",
              " 'anastasia',\n",
              " 'anastasius',\n",
              " 'anath',\n",
              " 'anatole',\n",
              " 'anay',\n",
              " 'ancel',\n",
              " 'anderson',\n",
              " 'andrea',\n",
              " 'andrew',\n",
              " 'andromache',\n",
              " 'andromeda',\n",
              " 'aneesa',\n",
              " 'aneko',\n",
              " 'anezka',\n",
              " 'angel',\n",
              " 'angela',\n",
              " 'angeni',\n",
              " 'angus',\n",
              " 'anicetus',\n",
              " 'anisa',\n",
              " 'anita',\n",
              " 'anjali',\n",
              " 'anker',\n",
              " 'ankhhaf',\n",
              " 'ann',\n",
              " 'annabeth',\n",
              " 'annalynn',\n",
              " 'annan',\n",
              " 'annas',\n",
              " 'anneliese',\n",
              " 'anoop',\n",
              " 'anselm',\n",
              " 'anson',\n",
              " 'anstice',\n",
              " 'antenor',\n",
              " 'anthony',\n",
              " 'antigonus',\n",
              " 'antje',\n",
              " 'antlia',\n",
              " 'antonia',\n",
              " 'anuradha',\n",
              " 'anusha',\n",
              " 'anya',\n",
              " 'anysia',\n",
              " 'anzan',\n",
              " 'anzu',\n",
              " 'aoi',\n",
              " 'aparna',\n",
              " 'apenimon',\n",
              " 'aphrodite',\n",
              " 'apollo',\n",
              " 'aponi',\n",
              " 'apostolos',\n",
              " 'apphia',\n",
              " 'apple',\n",
              " 'april',\n",
              " 'apus',\n",
              " 'aqualina',\n",
              " 'aquamarine',\n",
              " 'aquarius',\n",
              " 'aquene',\n",
              " 'aquila',\n",
              " 'ara',\n",
              " 'arabelle',\n",
              " 'arali',\n",
              " 'araminta',\n",
              " 'aramis',\n",
              " 'arantxa',\n",
              " 'arash',\n",
              " 'arashel',\n",
              " 'arbor',\n",
              " 'arcadicus',\n",
              " 'archangelo',\n",
              " 'archelaus',\n",
              " 'archibald',\n",
              " 'archimedes',\n",
              " 'ardalan',\n",
              " 'arden',\n",
              " 'ardeshir',\n",
              " 'ardys',\n",
              " 'arel',\n",
              " 'arella',\n",
              " 'ares',\n",
              " 'aretha',\n",
              " 'aretino',\n",
              " 'argus',\n",
              " 'aria',\n",
              " 'ariadne',\n",
              " 'ariana',\n",
              " 'ariel',\n",
              " 'aries',\n",
              " 'aril',\n",
              " 'arion',\n",
              " 'arissa',\n",
              " 'aristide',\n",
              " 'aristotle',\n",
              " 'arjun',\n",
              " 'arland',\n",
              " 'arledge',\n",
              " 'arleigh',\n",
              " 'arlene',\n",
              " 'arley',\n",
              " 'arlo',\n",
              " 'armand',\n",
              " 'armani',\n",
              " 'armstrong',\n",
              " 'arnold',\n",
              " 'arnon',\n",
              " 'arrietty',\n",
              " 'arrigo',\n",
              " 'arsenio',\n",
              " 'arslan',\n",
              " 'artemia',\n",
              " 'artemis',\n",
              " 'arthur',\n",
              " 'artis',\n",
              " 'aruiragus',\n",
              " 'aruna',\n",
              " 'arundel',\n",
              " 'arva',\n",
              " 'arvid',\n",
              " 'arwen',\n",
              " 'arziki',\n",
              " 'asa',\n",
              " 'asad',\n",
              " 'ascah',\n",
              " 'aseem',\n",
              " 'asenath',\n",
              " 'asenka',\n",
              " 'asha',\n",
              " 'ashab',\n",
              " 'ashanti',\n",
              " 'asher',\n",
              " 'ashkii',\n",
              " 'ashland',\n",
              " 'ashley',\n",
              " 'asija',\n",
              " 'asisa',\n",
              " 'asmodel',\n",
              " 'aspen',\n",
              " 'asphar',\n",
              " 'aster',\n",
              " 'astin',\n",
              " 'astrid',\n",
              " 'asuman',\n",
              " 'asvin',\n",
              " 'atara',\n",
              " 'atash',\n",
              " 'athan',\n",
              " 'athanasios',\n",
              " 'atharvan',\n",
              " 'athelstan',\n",
              " 'athena',\n",
              " 'athol',\n",
              " 'athos',\n",
              " 'atilla',\n",
              " 'atlanta',\n",
              " 'atlas',\n",
              " 'atley',\n",
              " 'atohi',\n",
              " 'atropos',\n",
              " 'atticus',\n",
              " 'attilio',\n",
              " 'atul',\n",
              " 'atwell',\n",
              " 'aubrey',\n",
              " 'auburn',\n",
              " 'audie',\n",
              " 'audio',\n",
              " 'audrey',\n",
              " 'audric',\n",
              " 'august',\n",
              " 'augusta',\n",
              " 'aulii',\n",
              " 'aurelia',\n",
              " 'aureliano',\n",
              " 'aurelius',\n",
              " 'auriga',\n",
              " 'aurora',\n",
              " 'austin',\n",
              " 'autolocus',\n",
              " 'autumn',\n",
              " 'ava',\n",
              " 'avalon',\n",
              " 'avel',\n",
              " 'averill',\n",
              " 'avery',\n",
              " 'avicus',\n",
              " 'avis',\n",
              " 'aviva',\n",
              " 'avon',\n",
              " 'avonmore',\n",
              " 'avril',\n",
              " 'awarnach',\n",
              " 'awendela',\n",
              " 'axel',\n",
              " 'ayala',\n",
              " 'ayame',\n",
              " 'ayana',\n",
              " 'ayasha',\n",
              " 'ayers',\n",
              " 'ayita',\n",
              " 'ayla',\n",
              " 'aylin',\n",
              " 'ayn',\n",
              " 'azad',\n",
              " 'azalea',\n",
              " 'azar',\n",
              " 'azariah',\n",
              " 'azarin',\n",
              " 'azeem',\n",
              " 'azura',\n",
              " 'baako',\n",
              " 'babette',\n",
              " 'babyface',\n",
              " 'badal',\n",
              " 'baden',\n",
              " 'badr',\n",
              " 'bahram',\n",
              " 'bailey',\n",
              " 'bain',\n",
              " 'bairre',\n",
              " 'baker',\n",
              " 'bala',\n",
              " 'balaji',\n",
              " 'balavan',\n",
              " 'balder',\n",
              " 'baldev',\n",
              " 'baldwin',\n",
              " 'balin',\n",
              " 'ballard',\n",
              " 'ballentine',\n",
              " 'ballinamore',\n",
              " 'baltasar',\n",
              " 'bambi',\n",
              " 'banagher',\n",
              " 'bancroft',\n",
              " 'bane',\n",
              " 'banji',\n",
              " 'banjo',\n",
              " 'banke',\n",
              " 'bankei',\n",
              " 'banko',\n",
              " 'banu',\n",
              " 'banzan',\n",
              " 'bao',\n",
              " 'baptiste',\n",
              " 'bara',\n",
              " 'barbara',\n",
              " 'barbaras',\n",
              " 'barber',\n",
              " 'barclay',\n",
              " 'bardalph',\n",
              " 'barika',\n",
              " 'barker',\n",
              " 'barnabas',\n",
              " 'barnett',\n",
              " 'baron',\n",
              " 'barric',\n",
              " 'barry',\n",
              " 'bartholomew',\n",
              " 'bartram',\n",
              " 'baruch',\n",
              " 'basalt',\n",
              " 'basanti',\n",
              " 'basha',\n",
              " 'bashira',\n",
              " 'basil',\n",
              " 'basilissa',\n",
              " 'basim',\n",
              " 'basimah',\n",
              " 'bassett',\n",
              " 'bassui',\n",
              " 'bates',\n",
              " 'bathsheba',\n",
              " 'bayard',\n",
              " 'beacan',\n",
              " 'beacher',\n",
              " 'beardsley',\n",
              " 'beata',\n",
              " 'beatrice',\n",
              " 'beau',\n",
              " 'beck',\n",
              " 'becky',\n",
              " 'bede',\n",
              " 'bedegrayne',\n",
              " 'bedelia',\n",
              " 'bedrich',\n",
              " 'behdad',\n",
              " 'behruz',\n",
              " 'bela',\n",
              " 'beldon',\n",
              " 'belinda',\n",
              " 'bellamy',\n",
              " 'bellona',\n",
              " 'beltran',\n",
              " 'bemossed',\n",
              " 'bemus',\n",
              " 'bena',\n",
              " 'benaiah',\n",
              " 'benedetta',\n",
              " 'benedict',\n",
              " 'benen',\n",
              " 'benjamin',\n",
              " 'benjiro',\n",
              " 'bennett',\n",
              " 'benson',\n",
              " 'bentley',\n",
              " 'benvenuto',\n",
              " 'benvolio',\n",
              " 'bergen',\n",
              " 'berit',\n",
              " 'berk',\n",
              " 'berlynn',\n",
              " 'bernadette',\n",
              " 'bernard',\n",
              " 'bernstein',\n",
              " 'berto',\n",
              " 'bertram',\n",
              " 'beryl',\n",
              " 'bess',\n",
              " 'bethany',\n",
              " 'bettina',\n",
              " 'beulah',\n",
              " 'beverly',\n",
              " 'bevin',\n",
              " 'beyonce',\n",
              " 'bharat',\n",
              " 'bharati',\n",
              " 'bhudev',\n",
              " 'bhuma',\n",
              " 'bianca',\n",
              " 'bibi',\n",
              " 'bidziil',\n",
              " 'bijan',\n",
              " 'billie',\n",
              " 'bina',\n",
              " 'bindiya',\n",
              " 'bing',\n",
              " 'bingham',\n",
              " 'binney',\n",
              " 'biondello',\n",
              " 'birch',\n",
              " 'birdee',\n",
              " 'birgit',\n",
              " 'bisa',\n",
              " 'bishop',\n",
              " 'bjorn',\n",
              " 'blaan',\n",
              " 'blackburn',\n",
              " 'blade',\n",
              " 'blaine',\n",
              " 'blair',\n",
              " 'blaise',\n",
              " 'blake',\n",
              " 'blase',\n",
              " 'blaz',\n",
              " 'blaze',\n",
              " 'bliss',\n",
              " 'blossom',\n",
              " 'blue',\n",
              " 'bluma',\n",
              " 'bly',\n",
              " 'blythe',\n",
              " 'bo',\n",
              " 'boden',\n",
              " 'bogart',\n",
              " 'bohdana',\n",
              " 'bonar',\n",
              " 'boniface',\n",
              " 'bonnie',\n",
              " 'bono',\n",
              " 'booker',\n",
              " 'boone',\n",
              " 'booth',\n",
              " 'borachio',\n",
              " 'borak',\n",
              " 'borden',\n",
              " 'borg',\n",
              " 'boris',\n",
              " 'borna',\n",
              " 'boston',\n",
              " 'boswell',\n",
              " 'botan',\n",
              " 'boutros',\n",
              " 'bowen',\n",
              " 'boyce',\n",
              " 'boyd',\n",
              " 'braden',\n",
              " 'bradley',\n",
              " 'bram',\n",
              " 'bramha',\n",
              " 'bramwell',\n",
              " 'branch',\n",
              " 'brandeis',\n",
              " 'brandie',\n",
              " 'brandon',\n",
              " 'brant',\n",
              " 'braulio',\n",
              " 'brawley',\n",
              " 'brea',\n",
              " 'breck',\n",
              " 'breena',\n",
              " 'brena',\n",
              " 'brenda',\n",
              " 'brent',\n",
              " 'breri',\n",
              " 'brett',\n",
              " 'brewster',\n",
              " 'brian',\n",
              " 'briar',\n",
              " 'brice',\n",
              " 'bridget',\n",
              " 'brigham',\n",
              " 'brighton',\n",
              " 'brinley',\n",
              " 'brittany',\n",
              " 'brock',\n",
              " 'broderick',\n",
              " 'bromley',\n",
              " 'bronco',\n",
              " 'bronson',\n",
              " 'bronwen',\n",
              " 'bronze',\n",
              " 'brook',\n",
              " 'bruce',\n",
              " 'bruna',\n",
              " 'bryce',\n",
              " 'bryn',\n",
              " 'bryony',\n",
              " 'buckley',\n",
              " 'bud',\n",
              " 'buffy',\n",
              " 'bukka',\n",
              " 'burdette',\n",
              " 'burgess',\n",
              " 'burke',\n",
              " 'burle',\n",
              " 'burne',\n",
              " 'burr',\n",
              " 'butch',\n",
              " 'buzz',\n",
              " 'byrd',\n",
              " 'byron',\n",
              " 'cabal',\n",
              " 'cable',\n",
              " 'cacey',\n",
              " 'cade',\n",
              " 'cady',\n",
              " 'caedmon',\n",
              " 'caelan',\n",
              " 'caelum',\n",
              " 'caesar',\n",
              " 'cage',\n",
              " 'cahir',\n",
              " 'caithness',\n",
              " 'caitlin',\n",
              " 'caius',\n",
              " 'cajetan',\n",
              " 'cala',\n",
              " 'calcite',\n",
              " 'calder',\n",
              " 'calen',\n",
              " 'calendula',\n",
              " 'calhoun',\n",
              " 'callan',\n",
              " 'callis',\n",
              " 'callistus',\n",
              " 'calvin',\n",
              " 'cambria',\n",
              " 'camden',\n",
              " 'cameo',\n",
              " 'camera',\n",
              " 'cameron',\n",
              " 'camille',\n",
              " 'camillo',\n",
              " 'campbell',\n",
              " 'canaan',\n",
              " 'cancer',\n",
              " 'candida',\n",
              " 'candidius',\n",
              " 'candra',\n",
              " 'canice',\n",
              " 'canon',\n",
              " 'canute',\n",
              " 'caprice',\n",
              " 'capricornus',\n",
              " 'capucius',\n",
              " 'cara',\n",
              " 'carden',\n",
              " 'carew',\n",
              " 'carey',\n",
              " 'carin',\n",
              " 'carina',\n",
              " 'carisa',\n",
              " 'carl',\n",
              " 'carla',\n",
              " 'carlotta',\n",
              " 'carlow',\n",
              " 'carmelo',\n",
              " 'carmine',\n",
              " 'carnelian',\n",
              " 'carol',\n",
              " 'caroline',\n",
              " 'carolus',\n",
              " 'caron',\n",
              " 'carrick',\n",
              " 'carson',\n",
              " 'carsten',\n",
              " 'carvell',\n",
              " 'carys',\n",
              " 'casey',\n",
              " 'casimir',\n",
              " 'casmir',\n",
              " 'caspar',\n",
              " 'cassidy',\n",
              " 'cassietta',\n",
              " 'cassius',\n",
              " 'castor',\n",
              " 'catava',\n",
              " 'cato',\n",
              " 'cavalon',\n",
              " 'cavanaugh',\n",
              " 'ceara',\n",
              " 'cecania',\n",
              " 'cedar',\n",
              " 'cedric',\n",
              " 'celesto',\n",
              " 'centaurus',\n",
              " 'cepheus',\n",
              " 'cerek',\n",
              " 'ceridwen',\n",
              " 'cerise',\n",
              " 'cerny',\n",
              " 'cettina',\n",
              " 'cetus',\n",
              " 'chablis',\n",
              " 'chainey',\n",
              " 'chaka',\n",
              " 'chalee',\n",
              " 'chance',\n",
              " 'chancellor',\n",
              " 'chandra',\n",
              " 'chanel',\n",
              " 'channing',\n",
              " 'chantal',\n",
              " 'chao',\n",
              " 'chapa',\n",
              " 'charlotte',\n",
              " 'charon',\n",
              " 'charu',\n",
              " 'chase',\n",
              " 'chata',\n",
              " 'chatam',\n",
              " 'chatillon',\n",
              " 'chay',\n",
              " 'chelsea',\n",
              " 'chen',\n",
              " 'chenoa',\n",
              " 'cheriss',\n",
              " 'cheryl',\n",
              " 'chesmu',\n",
              " 'chester',\n",
              " 'cheveyo',\n",
              " 'chevy',\n",
              " 'cheyenne',\n",
              " 'chhaya',\n",
              " 'chiamaka',\n",
              " 'chika',\n",
              " 'chike',\n",
              " 'chimalis',\n",
              " 'chimon',\n",
              " 'chinshu',\n",
              " 'chio',\n",
              " 'chione',\n",
              " 'chipo',\n",
              " 'chitrangda',\n",
              " 'chivalry',\n",
              " 'chiyo',\n",
              " 'cho',\n",
              " 'chogan',\n",
              " 'chon',\n",
              " 'chorei',\n",
              " 'chotan',\n",
              " 'chow',\n",
              " 'christy',\n",
              " 'chu',\n",
              " 'chun',\n",
              " 'chung',\n",
              " 'churchill',\n",
              " 'chyou',\n",
              " 'ciannait',\n",
              " 'ciaran',\n",
              " 'ciel',\n",
              " 'cipriano',\n",
              " 'ciqala',\n",
              " 'circinus',\n",
              " 'cirrillo',\n",
              " 'cisco',\n",
              " 'citrine',\n",
              " 'clachas',\n",
              " 'clancy',\n",
              " 'claudette',\n",
              " 'clay',\n",
              " 'cleotha',\n",
              " 'clodagh',\n",
              " 'clovis',\n",
              " 'clyde',\n",
              " 'cochise',\n",
              " 'coco',\n",
              " 'cola',\n",
              " 'colar',\n",
              " 'colbert',\n",
              " 'colette',\n",
              " 'colin',\n",
              " 'colleen',\n",
              " 'colm',\n",
              " 'colville',\n",
              " 'coman',\n",
              " 'conall',\n",
              " 'conan',\n",
              " 'confucius',\n",
              " 'cong',\n",
              " 'conner',\n",
              " 'conrad',\n",
              " 'constanzo',\n",
              " 'contessa',\n",
              " 'conway',\n",
              " 'coolio',\n",
              " 'corbin',\n",
              " 'cordelia',\n",
              " 'corky',\n",
              " 'corliss',\n",
              " 'cormack',\n",
              " 'corrado',\n",
              " 'cortez',\n",
              " 'corvette',\n",
              " 'cotovatre',\n",
              " 'courage',\n",
              " 'courtesy',\n",
              " 'courtney',\n",
              " 'courvoisier',\n",
              " 'coyne',\n",
              " 'craig',\n",
              " 'cricket',\n",
              " 'crisiant',\n",
              " 'crockett',\n",
              " 'cruz',\n",
              " 'cuba',\n",
              " 'cullen',\n",
              " 'curan',\n",
              " 'curtis',\n",
              " 'cuyler',\n",
              " 'cydney',\n",
              " 'cyra',\n",
              " 'cyrus',\n",
              " 'cyzarine',\n",
              " 'da',\n",
              " 'dabney',\n",
              " 'dacian',\n",
              " 'daelen',\n",
              " 'daeshim',\n",
              " 'dag',\n",
              " 'dagmar',\n",
              " 'dagna',\n",
              " 'dagobert',\n",
              " 'dahlia',\n",
              " 'dai',\n",
              " 'daido',\n",
              " 'dailan',\n",
              " 'daire',\n",
              " 'dakarai',\n",
              " 'dakota',\n",
              " 'dalbert',\n",
              " 'dale',\n",
              " 'dallas',\n",
              " 'dallin',\n",
              " 'dame',\n",
              " 'damek',\n",
              " 'damita',\n",
              " 'dana',\n",
              " 'dannon',\n",
              " 'danuta',\n",
              " 'darby',\n",
              " 'darcie',\n",
              " 'darcy',\n",
              " 'dareh',\n",
              " 'darena',\n",
              " 'darice',\n",
              " 'dario',\n",
              " 'darius',\n",
              " 'darlene',\n",
              " 'darnell',\n",
              " 'darrell',\n",
              " 'darshana',\n",
              " 'darva',\n",
              " 'daryn',\n",
              " 'dashiell',\n",
              " 'dattatreya',\n",
              " 'davin',\n",
              " 'davine',\n",
              " 'davood',\n",
              " 'dawn',\n",
              " 'dax',\n",
              " 'day',\n",
              " 'deandre',\n",
              " 'debbani',\n",
              " ...]"
            ]
          },
          "metadata": {},
          "execution_count": 57
        }
      ]
    },
    {
      "cell_type": "code",
      "metadata": {
        "id": "5WTHbCkZJ6yB"
      },
      "source": [
        "# tạo file mới \n",
        "import joblib"
      ],
      "execution_count": 58,
      "outputs": []
    },
    {
      "cell_type": "code",
      "metadata": {
        "id": "5LHPn628XNKU"
      },
      "source": [
        "nationality_vectorizer = open(\"nationality_vectorizer.pkl\",\"wb\")\n",
        "joblib.dump(cv,nationality_vectorizer)"
      ],
      "execution_count": 59,
      "outputs": []
    },
    {
      "cell_type": "code",
      "metadata": {
        "id": "XBlAHn6tKHOE"
      },
      "source": [
        "nationality_vectorizer.close()"
      ],
      "execution_count": 60,
      "outputs": []
    },
    {
      "cell_type": "code",
      "metadata": {
        "colab": {
          "base_uri": "https://localhost:8080/"
        },
        "id": "eSEMr1BeKJ9-",
        "outputId": "a0c5a039-ee1c-4bdb-9bc0-191f478cfd48"
      },
      "source": [
        "# bắt đầu train với x_train, y_train là 66,67%. x_test, y_test là 33,33%\n",
        "x_train,x_test,y_train,y_test = train_test_split(X,ylabels,test_size=0.33,random_state=42)\n",
        "nv = MultinomialNB()\n",
        "nv.fit(x_train,y_train)"
      ],
      "execution_count": 61,
      "outputs": [
        {
          "output_type": "execute_result",
          "data": {
            "text/plain": [
              "MultinomialNB()"
            ]
          },
          "metadata": {},
          "execution_count": 61
        }
      ]
    },
    {
      "cell_type": "code",
      "metadata": {
        "colab": {
          "base_uri": "https://localhost:8080/"
        },
        "id": "Cv0DCob4LQ8k",
        "outputId": "6c8e51d8-d187-40b3-9c24-069d461985ea"
      },
      "source": [
        "# độ chính xác cura model\n",
        "nv.score(x_test,y_test)"
      ],
      "execution_count": 62,
      "outputs": [
        {
          "output_type": "execute_result",
          "data": {
            "text/plain": [
              "0.05986903648269411"
            ]
          },
          "metadata": {},
          "execution_count": 62
        }
      ]
    },
    {
      "cell_type": "code",
      "metadata": {
        "colab": {
          "base_uri": "https://localhost:8080/"
        },
        "id": "ZRav58KLL6yQ",
        "outputId": "a785a75a-f9e8-4b21-8280-13dade01df38"
      },
      "source": [
        "sample1 = [\"Kofi\"]\n",
        "vect1 = cv.transform(sample1).toarray()\n",
        "nv.predict(vect1)\n"
      ],
      "execution_count": 63,
      "outputs": [
        {
          "output_type": "execute_result",
          "data": {
            "text/plain": [
              "array(['african'], dtype='<U16')"
            ]
          },
          "metadata": {},
          "execution_count": 63
        }
      ]
    },
    {
      "cell_type": "code",
      "metadata": {
        "colab": {
          "base_uri": "https://localhost:8080/"
        },
        "id": "wBa_u6t1MohB",
        "outputId": "21731d9c-ae3b-4b61-d17e-78edf0c98704"
      },
      "source": [
        "sample2 = [\"Li\",\"John\",\"Li\",\"Vladmir\"]\n",
        "vect2 = cv.transform(sample2).toarray()\n",
        "nv.predict(vect2)"
      ],
      "execution_count": 64,
      "outputs": [
        {
          "output_type": "execute_result",
          "data": {
            "text/plain": [
              "array(['chinese', 'french', 'chinese', 'french'], dtype='<U16')"
            ]
          },
          "metadata": {},
          "execution_count": 64
        }
      ]
    },
    {
      "cell_type": "code",
      "metadata": {
        "colab": {
          "base_uri": "https://localhost:8080/"
        },
        "id": "fq7zfKcePTan",
        "outputId": "561702d3-0590-4029-f257-b52e4bd1be7c"
      },
      "source": [
        "# Logistic Regression\n",
        "logit = LogisticRegression()\n",
        "logit.fit(x_train,y_train)"
      ],
      "execution_count": 65,
      "outputs": [
        {
          "output_type": "execute_result",
          "data": {
            "text/plain": [
              "LogisticRegression()"
            ]
          },
          "metadata": {},
          "execution_count": 65
        }
      ]
    },
    {
      "cell_type": "code",
      "metadata": {
        "colab": {
          "base_uri": "https://localhost:8080/"
        },
        "id": "s8irLoprPXNt",
        "outputId": "4ebb50f7-7a4a-4f15-e2e5-0078ade34d40"
      },
      "source": [
        "logit.score(x_test,y_test)\n"
      ],
      "execution_count": 66,
      "outputs": [
        {
          "output_type": "execute_result",
          "data": {
            "text/plain": [
              "0.0626753975678204"
            ]
          },
          "metadata": {},
          "execution_count": 66
        }
      ]
    },
    {
      "cell_type": "code",
      "metadata": {
        "colab": {
          "base_uri": "https://localhost:8080/"
        },
        "id": "Exzmq5jgPyJN",
        "outputId": "72b85d55-aa47-4e19-a349-8852dfc2395c"
      },
      "source": [
        "# Single Prediction with Logit\n",
        "logit.predict(vect1)"
      ],
      "execution_count": 67,
      "outputs": [
        {
          "output_type": "execute_result",
          "data": {
            "text/plain": [
              "array(['african'], dtype=object)"
            ]
          },
          "metadata": {},
          "execution_count": 67
        }
      ]
    },
    {
      "cell_type": "code",
      "metadata": {
        "colab": {
          "base_uri": "https://localhost:8080/"
        },
        "id": "Ugumw7XxQFSQ",
        "outputId": "3620a6fc-b747-4287-932d-b5654bb17025"
      },
      "source": [
        "logit.predict(vect2)"
      ],
      "execution_count": 68,
      "outputs": [
        {
          "output_type": "execute_result",
          "data": {
            "text/plain": [
              "array(['chinese', 'french', 'chinese', 'french'], dtype=object)"
            ]
          },
          "metadata": {},
          "execution_count": 68
        }
      ]
    },
    {
      "cell_type": "code",
      "metadata": {
        "colab": {
          "base_uri": "https://localhost:8080/"
        },
        "id": "PXOvbNDuQJNw",
        "outputId": "bbe7c0dd-24bb-4b3f-8c13-95e9a470d9d1"
      },
      "source": [
        "sample_3 = [\"katya\",\"natasha\"]\n",
        "vect3 = cv.transform(sample_3).toarray()\n",
        "logit.predict(vect3)"
      ],
      "execution_count": 69,
      "outputs": [
        {
          "output_type": "execute_result",
          "data": {
            "text/plain": [
              "array(['french', 'french'], dtype=object)"
            ]
          },
          "metadata": {},
          "execution_count": 69
        }
      ]
    },
    {
      "cell_type": "code",
      "metadata": {
        "colab": {
          "base_uri": "https://localhost:8080/"
        },
        "id": "Y9hRC6WdLu4g",
        "outputId": "ce4c55f1-8268-4746-eadf-2e09e7afaf16"
      },
      "source": [
        "sample2 = [\"Li\",\"John\",\"Ali\",\"Vladmir\"]\n",
        "vect2 = cv.transform(sample2).toarray()\n",
        "nv.predict(vect2)"
      ],
      "execution_count": 70,
      "outputs": [
        {
          "output_type": "execute_result",
          "data": {
            "text/plain": [
              "array(['chinese', 'french', 'arabic', 'french'], dtype='<U16')"
            ]
          },
          "metadata": {},
          "execution_count": 70
        }
      ]
    },
    {
      "cell_type": "code",
      "metadata": {
        "colab": {
          "base_uri": "https://localhost:8080/"
        },
        "id": "4N8t5f0kLtsS",
        "outputId": "3f7e7b11-3a9d-47a6-9aec-af38f02baa7d"
      },
      "source": [
        "sample2 = [\"Li\",\"John\",\"Ali\",\"Vladmir\"]\n",
        "vect2 = cv.transform(sample2).toarray()\n",
        "nv.predict(vect2)"
      ],
      "execution_count": 71,
      "outputs": [
        {
          "output_type": "execute_result",
          "data": {
            "text/plain": [
              "array(['chinese', 'french', 'arabic', 'french'], dtype='<U16')"
            ]
          },
          "metadata": {},
          "execution_count": 71
        }
      ]
    },
    {
      "cell_type": "code",
      "metadata": {
        "id": "fvmfGfIZRtWw"
      },
      "source": [
        "#Lưu model\n",
        "import joblib"
      ],
      "execution_count": 72,
      "outputs": []
    },
    {
      "cell_type": "code",
      "metadata": {
        "id": "fNLjaazTR1vr"
      },
      "source": [
        "nationality_nv_model = open(\"nationality_nv_model.pkl\",\"wb\")\n",
        "joblib.dump(nv,nationality_nv_model)\n",
        "nationality_nv_model.close()"
      ],
      "execution_count": 73,
      "outputs": []
    },
    {
      "cell_type": "code",
      "metadata": {
        "id": "Xff3qiDBRvk8"
      },
      "source": [
        "nationality_logit_model = open(\"nationality_logit_model.pkl\",\"wb\")\n",
        "joblib.dump(nv,nationality_logit_model)\n",
        "nationality_logit_model.close()"
      ],
      "execution_count": 74,
      "outputs": []
    }
  ]
}